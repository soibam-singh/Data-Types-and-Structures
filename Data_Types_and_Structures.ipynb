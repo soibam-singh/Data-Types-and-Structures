{
  "nbformat": 4,
  "nbformat_minor": 0,
  "metadata": {
    "colab": {
      "provenance": []
    },
    "kernelspec": {
      "name": "python3",
      "display_name": "Python 3"
    },
    "language_info": {
      "name": "python"
    }
  },
  "cells": [
    {
      "cell_type": "code",
      "source": [],
      "metadata": {
        "id": "vlEWT0v3jaPh"
      },
      "execution_count": null,
      "outputs": []
    },
    {
      "cell_type": "markdown",
      "source": [
        "1. What are data structures, and why are they important?\n",
        "   - In Python, data structures refer to ways of organizing, storing, and retreiving/manipulating data.\n",
        "   - Common Data Structures in Python: List, Tuple, Set, Dictionaries etc.\n",
        "   - The reasons for why they are important\n",
        "     - Performance Optimization\n",
        "     - Memory Efficiency\n",
        "     - Code Simplicity and Readability\n",
        "\n",
        "2. Explain the difference between mutable and immutable data types with examples.\n",
        "   - Mutable data types are those whose values or contents can be changed after the object has been created. Examples - List, Set, Dictionary ect.\n",
        "   - Immutable data types are those whose values cannot be changed after the object has been created. Examples - String, Tuple\n",
        "\n",
        "3. What are the main differences between lists and tuples in Python?\n",
        "   - Lists are mutable and tuples are immutable\n",
        "\n",
        "4. Describe how dictionaries store data\n",
        "   - Dictionaries store data as key-value pairs.\n",
        "\n",
        "5. Why might you use a set instead of a list in Python?\n",
        "   - Set: A set automatically eliminates duplicate elements.If user try to add a duplicate item to a set, it will be ignored.\n",
        "\n",
        "6. What is a string in Python, and how is it different from a list?\n",
        "   - a string is a sequence of characters enclosed in single (') or double (\") quotes.\n",
        "   - String is immutable and list is mutable\n",
        "\n",
        "7. How do tuples ensure data integrity in Python?\n",
        "   - Tuples in Python ensure data integrity by being immutable, meaning that once a tuple is created, its content cannot be modified.\n",
        "  \n",
        "8. What is a hash table, and how does it relate to dictionaries in Python?\n",
        "   - A hash table is a data structure used to store key-value pairs, where each key is mapped to a specific value through a hash function.\n",
        "   - In Python, dictionaries (dict) are implemented using hash tables. A Python dictionary is an unordered collection of key-value pairs, where:\n",
        "\n",
        "   The keys must be immutable types (e.g., strings, numbers, tuples).\n",
        "   The values can be any Python object.\n",
        "\n",
        "9. Can lists contain different data types in Python?\n",
        "   - Yes, lists in Python can contain different data types. Python lists are heterogeneous, meaning that user can store elements of various types within the same list.\n",
        "\n",
        "10. Explain why strings are immutable in Python\n",
        "    - Strings in Python are immutable, meaning that once a string is created, it cannot be changed or modified. This immutability has several benefits related to efficiency, safety, and functionality.\n",
        "\n",
        "11. What advantages do dictionaries offer over lists for certain tasks?\n",
        "    - Dictionaries offer several advantages over lists for certain tasks, primarily when users need to efficiently associate keys with values, perform lookups, or handle unordered data.\n",
        "\n",
        "12. Describe a scenario where using a tuple would be preferable over a list.\n",
        "   - Scenario: Storing Geographic Coordinates (Latitude, Longitude)\n",
        "Imagine users are developing a system that stores and processes geographic coordinates for various locations. Each location is defined by a latitude and longitude pair.\n",
        "   - Why Use a Tuple:\n",
        "     - Immutability\n",
        "     - Performance: Since tuples are immutable (unlike lists), they are generally more memory-efficient and can be faster to access than lists.\n",
        "     - Data Integrity\n",
        "13. How do sets handle duplicate values in Python?\n",
        "    - In Python, sets automatically remove duplicates because they are unordered collections that only store unique values. This means that if users try to add a duplicate value to a set, the set will ignore the duplicate and only keep one instance of that value.\n",
        "\n",
        "14. How does the “in” keyword work differently for lists and dictionaries?\n",
        "    - When the \"in\" keyword is used with a list, it checks if an element exists in the list.\n",
        "    - When the \"in\" keyword is used with a dictionary, it checks if a key exists in the dictionary, not the values.\n",
        "\n",
        "15. Can you modify the elements of a tuple? Explain why or why not.\n",
        "    - No because tuple is immutable\n",
        "\n",
        "16. What is a nested dictionary, and give an example of its use case.\n",
        "    - Nested dictionaries are dictionaries within dictionaries. They provide a hierarchical way to organize and store complex data, where each value can be another dictionary, containing more key-value pairs.\n",
        "\n",
        "Example Use Case: Representing Employee Information\n",
        "\n",
        "Consider a company with multiple departments, each having multiple employees. You can use a nested dictionary to store employee information, organized by department:\n",
        "\n",
        "employees = {\n",
        "    \"Engineering\": {\n",
        "        \"John Doe\": {\"id\": 1, \"role\": \"Software Engineer\"},\n",
        "        \"Jane Smith\": {\"id\": 2, \"role\": \"Data Scientist\"},\n",
        "    },\n",
        "    \"Marketing\": {\n",
        "        \"David Lee\": {\"id\": 3, \"role\": \"Marketing Manager\"},\n",
        "        \"Sarah Jones\": {\"id\": 4, \"role\": \"Social Media Specialist\"},\n",
        "    },\n",
        "}\n",
        "\n",
        "17. Describe the time complexity of accessing elements in a dictionary.\n",
        "    - In Python, dictionaries are implemented using a hash table, which allows for efficient lookup, insertion, and deletion operations. The time complexity for accessing elements in a dictionary is typically O(1), meaning that the time to access a value by key is constant, regardless of the number of elements in the dictionary. This is one of the key reasons why dictionaries are extremely efficient for key-based lookups.\n",
        "\n",
        "18. In what situations are lists preferred over dictionaries?\n",
        "    - Here are some situations where lists are generally preferred over dictionaries:\n",
        "    - When the Order of Elements Matters\n",
        "    - When users Need to Store a Simple Sequence of Elements\n",
        "    - When users Need Efficient Index-based Access\n",
        "    - When users Have a Known Number of Elements or Small Data\n",
        "\n",
        "19. Why are dictionaries considered unordered, and how does that affect data retrieval?\n",
        "    - Why Are Dictionaries Considered Unordered?\n",
        "      Hash Table Implementation:\n",
        "      - Dictionaries are implemented using a hash table, which is a data structure that maps keys to values via a hash function.\n",
        "    - Does the Unordered Nature Affect Data Retrieval?\n",
        "      - The unordered nature of dictionaries does not affect data retrieval by key. Python dictionaries provide O(1) average-time complexity for retrieving the value associated with a specific key. This means users can access values in constant time, regardless of whether the dictionary maintains insertion order.\n",
        "\n",
        "20. Explain the difference between a list and a dictionary in terms of data retrieval.\n",
        "    -  A list stores ordered collections of items, and data is accessed by index (position of the element in the list).\n",
        "    - In the dictionary, data is accessed by using the key rather than an index. The key can be any immutable data type (e.g., strings, numbers, tuples).\n",
        "\n",
        "\n",
        "\n",
        "\n",
        "\n",
        "\n",
        "\n",
        "\n",
        "\n",
        "\n",
        "\n"
      ],
      "metadata": {
        "id": "WG0HJI6-jc1N"
      }
    },
    {
      "cell_type": "code",
      "source": [
        "# Practical Questions"
      ],
      "metadata": {
        "id": "OD5JmfAmwryc"
      },
      "execution_count": null,
      "outputs": []
    },
    {
      "cell_type": "code",
      "source": [
        "# 1. Write a code to create a string with your name and print it\n",
        "\n",
        "# Creating a string with my name\n",
        "name = \"Soibam Anando\"\n",
        "\n",
        "# Printing the string\n",
        "print(f\"My name is {name}\")\n"
      ],
      "metadata": {
        "colab": {
          "base_uri": "https://localhost:8080/"
        },
        "id": "RAPz4vKRwuaV",
        "outputId": "4f503363-cfb7-4231-aa44-a55539b4787a"
      },
      "execution_count": 2,
      "outputs": [
        {
          "output_type": "stream",
          "name": "stdout",
          "text": [
            "My name is Soibam Anando\n"
          ]
        }
      ]
    },
    {
      "cell_type": "code",
      "source": [
        "# 2. Write a code to find the length of the string \"Hello World\"\n",
        "len(\"Hello World\")"
      ],
      "metadata": {
        "colab": {
          "base_uri": "https://localhost:8080/"
        },
        "id": "ZQCIcn3qxfpm",
        "outputId": "e3a993d9-9cae-4ae6-d9eb-55957446be67"
      },
      "execution_count": 3,
      "outputs": [
        {
          "output_type": "execute_result",
          "data": {
            "text/plain": [
              "11"
            ]
          },
          "metadata": {},
          "execution_count": 3
        }
      ]
    },
    {
      "cell_type": "code",
      "source": [
        "# 3. Write a code to slice the first 3 characters from the string \"Python Programming\"\n",
        "text = \"Python Programming\"\n",
        "print(text[:3])"
      ],
      "metadata": {
        "colab": {
          "base_uri": "https://localhost:8080/"
        },
        "id": "6_GYoNkAxuou",
        "outputId": "c2cbe24c-08b6-45f9-a3d4-11e1fa5ec2a1"
      },
      "execution_count": 4,
      "outputs": [
        {
          "output_type": "stream",
          "name": "stdout",
          "text": [
            "Pyt\n"
          ]
        }
      ]
    },
    {
      "cell_type": "code",
      "source": [
        "# 4. Write a code to convert the string \"hello\" to uppercase\n",
        "text = \"hello\"\n",
        "print(text.upper())"
      ],
      "metadata": {
        "colab": {
          "base_uri": "https://localhost:8080/"
        },
        "id": "4nozMRLCyEHh",
        "outputId": "451a53fd-3248-4152-f306-0dd9c856b359"
      },
      "execution_count": 6,
      "outputs": [
        {
          "output_type": "stream",
          "name": "stdout",
          "text": [
            "HELLO\n"
          ]
        }
      ]
    },
    {
      "cell_type": "code",
      "source": [
        "# 5. Write a code to replace the word \"apple\" with \"orange\" in the string \"I like apple\"\n",
        "sentence = \"I like apple\"\n",
        "print(sentence.replace(\"apple\", \"orange\"))"
      ],
      "metadata": {
        "colab": {
          "base_uri": "https://localhost:8080/"
        },
        "id": "zOTYImqFySEG",
        "outputId": "c3747052-e14c-430a-e81f-a709b8d73c15"
      },
      "execution_count": 7,
      "outputs": [
        {
          "output_type": "stream",
          "name": "stdout",
          "text": [
            "I like orange\n"
          ]
        }
      ]
    },
    {
      "cell_type": "code",
      "source": [
        "# 6. Write a code to create a list with numbers 1 to 5 and print it\n",
        "print([1, 2, 3, 4, 5])"
      ],
      "metadata": {
        "colab": {
          "base_uri": "https://localhost:8080/"
        },
        "id": "NKcNyQX-yjCD",
        "outputId": "4d25d254-ef2d-4718-cca8-56af93d2bc85"
      },
      "execution_count": 8,
      "outputs": [
        {
          "output_type": "stream",
          "name": "stdout",
          "text": [
            "[1, 2, 3, 4, 5]\n"
          ]
        }
      ]
    },
    {
      "cell_type": "code",
      "source": [
        "# 7.  Write a code to append the number 10 to the list [1, 2, 3, 4]\n",
        "numbers = [1, 2, 3, 4]\n",
        "numbers.append(10)\n",
        "print(numbers)"
      ],
      "metadata": {
        "colab": {
          "base_uri": "https://localhost:8080/"
        },
        "id": "JWH9ljGry9Ct",
        "outputId": "df67b7ff-da77-4514-dcd8-13dd05086b1c"
      },
      "execution_count": 11,
      "outputs": [
        {
          "output_type": "stream",
          "name": "stdout",
          "text": [
            "[1, 2, 3, 4, 10]\n"
          ]
        }
      ]
    },
    {
      "cell_type": "code",
      "source": [
        "# 8. Write a code to remove the number 3 from the list [1, 2, 3, 4, 5]\n",
        "numbers = [1, 2, 3, 4, 5]\n",
        "numbers.remove(3)\n",
        "print(numbers)"
      ],
      "metadata": {
        "colab": {
          "base_uri": "https://localhost:8080/"
        },
        "id": "0_l13sXSzaPi",
        "outputId": "70399d84-d311-4509-ef76-b49e76493217"
      },
      "execution_count": 12,
      "outputs": [
        {
          "output_type": "stream",
          "name": "stdout",
          "text": [
            "[1, 2, 4, 5]\n"
          ]
        }
      ]
    },
    {
      "cell_type": "code",
      "source": [
        "# 9. Write a code to access the second element in the list ['a', 'b', 'c', 'd']\n",
        "letters = ['a', 'b', 'c', 'd']\n",
        "print(letters[1])"
      ],
      "metadata": {
        "colab": {
          "base_uri": "https://localhost:8080/"
        },
        "id": "A6NM9wVGzoko",
        "outputId": "9a457833-15b8-49ab-a6c4-b5df0f0aa948"
      },
      "execution_count": 13,
      "outputs": [
        {
          "output_type": "stream",
          "name": "stdout",
          "text": [
            "b\n"
          ]
        }
      ]
    },
    {
      "cell_type": "code",
      "source": [
        "# 10. Write a code to reverse the list [10, 20, 30, 40, 50].\n",
        "numbers = [10, 20, 30, 40, 50]\n",
        "numbers.reverse()\n",
        "print(numbers)"
      ],
      "metadata": {
        "colab": {
          "base_uri": "https://localhost:8080/"
        },
        "id": "1PJIMEmGz9hO",
        "outputId": "4f229c18-5738-4f06-c759-2c87da60af05"
      },
      "execution_count": 15,
      "outputs": [
        {
          "output_type": "stream",
          "name": "stdout",
          "text": [
            "[50, 40, 30, 20, 10]\n"
          ]
        }
      ]
    },
    {
      "cell_type": "code",
      "source": [
        "# 11. Write a code to create a tuple with the elements 10, 20, 30 and print it.\n",
        "number = (10, 20, 30)\n",
        "print(type(number))\n",
        "print(number)"
      ],
      "metadata": {
        "colab": {
          "base_uri": "https://localhost:8080/"
        },
        "id": "zaA53q9u0e8X",
        "outputId": "6a5bafaf-de06-49a7-bd54-9a561f9e7bd0"
      },
      "execution_count": 18,
      "outputs": [
        {
          "output_type": "stream",
          "name": "stdout",
          "text": [
            "<class 'tuple'>\n",
            "(10, 20, 30)\n"
          ]
        }
      ]
    },
    {
      "cell_type": "code",
      "source": [
        "# 12. Write a code to access the first element of the tuple ('apple', 'banana', 'cherry').\n",
        "\n",
        "fruits = ('apple', 'banana', 'cherry')\n",
        "print(fruits[0])"
      ],
      "metadata": {
        "colab": {
          "base_uri": "https://localhost:8080/"
        },
        "id": "32U0yBus0vZZ",
        "outputId": "72f0f93b-96df-4b37-b570-402e4d61f55a"
      },
      "execution_count": 19,
      "outputs": [
        {
          "output_type": "stream",
          "name": "stdout",
          "text": [
            "apple\n"
          ]
        }
      ]
    },
    {
      "cell_type": "code",
      "source": [
        "# 13. Write a code to count how many times the number 2 appears in the tuple (1, 2, 3, 2, 4, 2)\n",
        "\n",
        "numbers = (1, 2, 3, 2, 4, 2)\n",
        "print(numbers.count(2))"
      ],
      "metadata": {
        "colab": {
          "base_uri": "https://localhost:8080/"
        },
        "id": "lQzmAKKO1EML",
        "outputId": "7b3f1328-58d7-4a0c-82d6-7baedfba62ee"
      },
      "execution_count": 20,
      "outputs": [
        {
          "output_type": "stream",
          "name": "stdout",
          "text": [
            "3\n"
          ]
        }
      ]
    },
    {
      "cell_type": "code",
      "source": [
        "# 14.  Write a code to find the index of the element \"cat\" in the tuple ('dog', 'cat', 'rabbit')\n",
        "animals = ('dog', 'cat', 'rabbit')\n",
        "print(animals.index('cat'))\n"
      ],
      "metadata": {
        "colab": {
          "base_uri": "https://localhost:8080/"
        },
        "id": "BJ99toNB1V_Q",
        "outputId": "b2fa9b5f-a8c5-4812-daac-3c7ddd802017"
      },
      "execution_count": 21,
      "outputs": [
        {
          "output_type": "stream",
          "name": "stdout",
          "text": [
            "1\n"
          ]
        }
      ]
    },
    {
      "cell_type": "code",
      "source": [
        "# 15.  Write a code to check if the element \"banana\" is in the tuple ('apple', 'orange', 'banana')\n",
        "\n",
        "fruits = ('apple', 'orange', 'banana')\n",
        "if \"banana\" in fruits:\n",
        "   print(\"banana is in the tuple.\")\n",
        "else:\n",
        "  print(\"banana is not in the tuple.\")"
      ],
      "metadata": {
        "colab": {
          "base_uri": "https://localhost:8080/"
        },
        "id": "i7KjvlMy1okf",
        "outputId": "be06cfdf-8d13-47c3-8a5e-48815b5b2979"
      },
      "execution_count": 26,
      "outputs": [
        {
          "output_type": "stream",
          "name": "stdout",
          "text": [
            "banana is in the tuple.\n"
          ]
        }
      ]
    },
    {
      "cell_type": "code",
      "source": [
        "# 16.  Write a code to create a set with the elements 1, 2, 3, 4, 5 and print it.\n",
        "\n",
        "numbers = {1, 2, 3, 4, 5}\n",
        "print(type(numbers))\n",
        "print(numbers)"
      ],
      "metadata": {
        "colab": {
          "base_uri": "https://localhost:8080/"
        },
        "id": "5TDYfBGB2OVp",
        "outputId": "658bca27-b3ed-4bac-f0ab-954b4de3abca"
      },
      "execution_count": 27,
      "outputs": [
        {
          "output_type": "stream",
          "name": "stdout",
          "text": [
            "<class 'set'>\n",
            "{1, 2, 3, 4, 5}\n"
          ]
        }
      ]
    },
    {
      "cell_type": "code",
      "source": [
        "# 17. Write a code to add the element 6 to the set {1, 2, 3, 4}.\n",
        "numbers = {1, 2, 3, 4, 5}\n",
        "numbers.add(6)\n",
        "print(numbers)"
      ],
      "metadata": {
        "colab": {
          "base_uri": "https://localhost:8080/"
        },
        "id": "OkjHkWUU2b6V",
        "outputId": "9fa0858c-1a99-4a10-f7f3-7a398908a100"
      },
      "execution_count": 28,
      "outputs": [
        {
          "output_type": "stream",
          "name": "stdout",
          "text": [
            "{1, 2, 3, 4, 5, 6}\n"
          ]
        }
      ]
    },
    {
      "cell_type": "code",
      "source": [
        "# 18. Write a code to create a tuple with the elements 10, 20, 30 and print it.\n",
        "numbers = (10, 20, 30)\n",
        "print(type(numbers))\n",
        "print(numbers)\n"
      ],
      "metadata": {
        "colab": {
          "base_uri": "https://localhost:8080/"
        },
        "id": "L8QEel9E2oKp",
        "outputId": "0a8d0bfe-024d-45a5-aeb7-36518593313e"
      },
      "execution_count": 29,
      "outputs": [
        {
          "output_type": "stream",
          "name": "stdout",
          "text": [
            "<class 'tuple'>\n",
            "(10, 20, 30)\n"
          ]
        }
      ]
    },
    {
      "cell_type": "code",
      "source": [
        "# 19. Write a code to access the first element of the tuple ('apple', 'banana', 'cherry').\n",
        "fruits = ('apple', 'banana', 'cherry')\n",
        "print(fruits[0])"
      ],
      "metadata": {
        "colab": {
          "base_uri": "https://localhost:8080/"
        },
        "id": "n4RuyeJr27i7",
        "outputId": "b1e1f1b6-9d62-40a1-ed6c-13b7fa744df6"
      },
      "execution_count": 30,
      "outputs": [
        {
          "output_type": "stream",
          "name": "stdout",
          "text": [
            "apple\n"
          ]
        }
      ]
    },
    {
      "cell_type": "code",
      "source": [
        "# 20. Write a code to count how many times the number 2 appears in the tuple (1, 2, 3, 2, 4, 2).\n",
        "numbers = (1, 2, 3, 2, 4, 2)\n",
        "print(numbers.count(2))\n"
      ],
      "metadata": {
        "colab": {
          "base_uri": "https://localhost:8080/"
        },
        "id": "KQssYGAy3FMd",
        "outputId": "b6c2e8f0-1afa-4304-853c-fb3a24ec30bd"
      },
      "execution_count": 31,
      "outputs": [
        {
          "output_type": "stream",
          "name": "stdout",
          "text": [
            "3\n"
          ]
        }
      ]
    },
    {
      "cell_type": "code",
      "source": [
        "# 21.  Write a code to find the index of the element \"cat\" in the tuple ('dog', 'cat', 'rabbit').\n",
        "animals = ('dog', 'cat', 'rabbit')\n",
        "print(animals.index(\"cat\"))"
      ],
      "metadata": {
        "colab": {
          "base_uri": "https://localhost:8080/"
        },
        "id": "fbbrqxA83SMy",
        "outputId": "18514c14-f64c-4c49-981e-86aa3f4a8d27"
      },
      "execution_count": 32,
      "outputs": [
        {
          "output_type": "stream",
          "name": "stdout",
          "text": [
            "1\n"
          ]
        }
      ]
    },
    {
      "cell_type": "code",
      "source": [
        "# 22.  Write a code to check if the element \"banana\" is in the tuple ('apple', 'orange', 'banana').\n",
        "fruits = ('apple', 'orange', 'banana')\n",
        "if \"banana\" in fruits:\n",
        "    print(\"banana is in the tuple.\")\n",
        "else:\n",
        "    print(\"banana is not in the tuple.\")"
      ],
      "metadata": {
        "colab": {
          "base_uri": "https://localhost:8080/"
        },
        "id": "9xUhXI6u3dco",
        "outputId": "6a72e855-cefd-40a1-b608-3519394f9c10"
      },
      "execution_count": 33,
      "outputs": [
        {
          "output_type": "stream",
          "name": "stdout",
          "text": [
            "banana is in the tuple.\n"
          ]
        }
      ]
    },
    {
      "cell_type": "code",
      "source": [
        "# 23.  Write a code to create a set with the elements 1, 2, 3, 4, 5 and print it.\n",
        "\n",
        "numbers = {1, 2, 3, 4, 5}\n",
        "print(type(numbers))\n",
        "print(numbers)"
      ],
      "metadata": {
        "colab": {
          "base_uri": "https://localhost:8080/"
        },
        "id": "5af3r2U13vq5",
        "outputId": "0234fa4d-acfa-4486-e083-0fb90e746066"
      },
      "execution_count": 34,
      "outputs": [
        {
          "output_type": "stream",
          "name": "stdout",
          "text": [
            "<class 'set'>\n",
            "{1, 2, 3, 4, 5}\n"
          ]
        }
      ]
    },
    {
      "cell_type": "code",
      "source": [
        "# 24.  Write a code to add the element 6 to the set {1, 2, 3, 4}.\n",
        "numbers = {1, 2, 3, 4}\n",
        "numbers.add(6)\n",
        "print(numbers)"
      ],
      "metadata": {
        "colab": {
          "base_uri": "https://localhost:8080/"
        },
        "id": "C8Y8mrC94ALQ",
        "outputId": "379743a2-c799-49e7-e5d4-8155684daa72"
      },
      "execution_count": 35,
      "outputs": [
        {
          "output_type": "stream",
          "name": "stdout",
          "text": [
            "{1, 2, 3, 4, 6}\n"
          ]
        }
      ]
    }
  ]
}